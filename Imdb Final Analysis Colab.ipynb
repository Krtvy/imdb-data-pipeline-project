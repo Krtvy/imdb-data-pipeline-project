# 📦 FINAL IMDB FULL ANALYSIS NOTEBOOK 🔥

import pandas as pd
import ast
import matplotlib.pyplot as plt
import seaborn as sns
from google.colab import files

# ✅ Upload Master File
print("Upload imdb_master_cleaned.csv file")
uploaded = files.upload()
master_file = list(uploaded.keys())[0]
final_df = pd.read_csv(master_file)

# ✅ Clean Columns
final_df['budget'] = pd.to_numeric(final_df['budget'], errors='coerce')
final_df['revenue'] = pd.to_numeric(final_df['revenue'], errors='coerce')
final_df['release_date'] = pd.to_datetime(final_df['release_date'], errors='coerce')
final_df['year'] = final_df['release_date'].dt.year

# ✅ Parse Genres
def parse_genres(genres_json):
    try:
        genres = ast.literal_eval(genres_json)
        return [genre['name'] for genre in genres]
    except:
        return []

final_df['genres_list'] = final_df['genres'].apply(parse_genres)
exploded_genres_df = final_df.explode('genres_list')

# ✅ Top 10 Genres
print("\nTop 10 Genres:")
genre_counts = exploded_genres_df['genres_list'].value_counts().head(10)
print(genre_counts)

# ✅ Directors
valid_directors = final_df[(final_df['revenue'] > 0) & (final_df['director'].notnull())]
director_revenue = valid_directors.groupby('director').agg(
    total_revenue=('revenue', 'sum'),
    avg_revenue=('revenue', 'mean'),
    movie_count=('title', 'count')
).sort_values(by='total_revenue', ascending=False).head(10)

print("\nTop 10 Directors by Total Revenue:")
print(director_revenue)

# ✅ Actors
exploded_actors_df = final_df.explode('actors_list')
valid_actors = exploded_actors_df[(exploded_actors_df['revenue'] > 0) & (exploded_actors_df['actors_list'].notnull())]
actor_revenue = valid_actors.groupby('actors_list').agg(
    total_revenue=('revenue', 'sum'),
    avg_revenue=('revenue', 'mean'),
    movie_count=('title', 'count')
).sort_values(by='total_revenue', ascending=False).head(10)

print("\nTop 10 Actors by Total Revenue:")
print(actor_revenue)

# ✅ Year-wise Movies
movies_per_year = final_df['year'].value_counts().sort_index()
print("\nMovies Released Per Year:")
print(movies_per_year)
